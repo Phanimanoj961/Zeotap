{
 "cells": [
  {
   "cell_type": "code",
   "execution_count": 2,
   "id": "f6ef1a35",
   "metadata": {},
   "outputs": [
    {
     "name": "stdout",
     "output_type": "stream",
     "text": [
      "Lookalike CSV file saved as Phani_Manoj_Lookalike.csv\n"
     ]
    }
   ],
   "source": [
    "import pandas as pd\n",
    "from sklearn.metrics.pairwise import cosine_similarity\n",
    "from sklearn.preprocessing import StandardScaler\n",
    "\n",
    "# Load the datasets\n",
    "customers_url = \"https://drive.google.com/uc?id=1bu_--mo79VdUG9oin4ybfFGRUSXAe-WE\"\n",
    "products_url = \"https://drive.google.com/uc?id=1IKuDizVapw-hyktwfpoAoaGtHtTNHfd0\"\n",
    "transactions_url = \"https://drive.google.com/uc?id=1saEqdbBB-vuk2hxoAf4TzDEsykdKlzbF\"\n",
    "\n",
    "customers = pd.read_csv(customers_url)\n",
    "products = pd.read_csv(products_url)\n",
    "transactions = pd.read_csv(transactions_url)\n",
    "\n",
    "# Merge datasets for enriched information\n",
    "transactions = transactions.merge(customers, on='CustomerID').merge(products, on='ProductID')\n",
    "\n",
    "# Create a pivot table for customer-product interactions\n",
    "pivot_table = transactions.pivot_table(\n",
    "    index='CustomerID', \n",
    "    columns='ProductID', \n",
    "    values='TotalValue', \n",
    "    aggfunc='sum', \n",
    "    fill_value=0\n",
    ")\n",
    "\n",
    "# Standardize the pivot table\n",
    "scaler = StandardScaler()\n",
    "pivot_scaled = scaler.fit_transform(pivot_table)\n",
    "\n",
    "# Compute cosine similarity\n",
    "similarity_matrix = cosine_similarity(pivot_scaled)\n",
    "similarity_df = pd.DataFrame(\n",
    "    similarity_matrix, \n",
    "    index=pivot_table.index, \n",
    "    columns=pivot_table.index\n",
    ")\n",
    "\n",
    "# Function to get top 3 similar customers for each customer\n",
    "def get_top_3_lookalikes(similarity_df, customer_id):\n",
    "    similar_customers = similarity_df[customer_id].sort_values(ascending=False).iloc[1:4]\n",
    "    return [(idx, score) for idx, score in similar_customers.items()]\n",
    "\n",
    "# Generate lookalike recommendations for customers C0001 to C0020\n",
    "lookalike_results = {}\n",
    "for customer_id in customers['CustomerID'][:20]:\n",
    "    lookalike_results[customer_id] = get_top_3_lookalikes(similarity_df, customer_id)\n",
    "\n",
    "# Format results for CSV\n",
    "lookalike_data = []\n",
    "for cust_id, lookalikes in lookalike_results.items():\n",
    "    lookalike_data.append({\n",
    "        'CustomerID': cust_id,\n",
    "        'Lookalikes': [\n",
    "            {\n",
    "                'SimilarCustomerID': similar_cust,\n",
    "                'SimilarityScore': round(score, 4)\n",
    "            } for similar_cust, score in lookalikes\n",
    "        ]\n",
    "    })\n",
    "\n",
    "lookalike_csv_df = pd.DataFrame(lookalike_data)\n",
    "\n",
    "# Save to CSV\n",
    "lookalike_csv_filename = \"Phani_Manoj_Lookalike.csv\"\n",
    "lookalike_csv_df.to_csv(lookalike_csv_filename, index=False)\n",
    "\n",
    "print(f\"Lookalike CSV file saved as {lookalike_csv_filename}\")\n"
   ]
  },
  {
   "cell_type": "code",
   "execution_count": null,
   "id": "132022a2",
   "metadata": {},
   "outputs": [],
   "source": []
  }
 ],
 "metadata": {
  "kernelspec": {
   "display_name": "Python 3 (ipykernel)",
   "language": "python",
   "name": "python3"
  },
  "language_info": {
   "codemirror_mode": {
    "name": "ipython",
    "version": 3
   },
   "file_extension": ".py",
   "mimetype": "text/x-python",
   "name": "python",
   "nbconvert_exporter": "python",
   "pygments_lexer": "ipython3",
   "version": "3.10.9"
  }
 },
 "nbformat": 4,
 "nbformat_minor": 5
}
